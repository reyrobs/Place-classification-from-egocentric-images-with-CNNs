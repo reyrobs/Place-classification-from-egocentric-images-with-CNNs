{
  "nbformat": 4,
  "nbformat_minor": 0,
  "metadata": {
    "colab": {
      "name": "createTable.ipynb",
      "provenance": []
    },
    "kernelspec": {
      "name": "python3",
      "display_name": "Python 3"
    },
    "language_info": {
      "name": "python"
    }
  },
  "cells": [
    {
      "cell_type": "code",
      "metadata": {
        "colab": {
          "base_uri": "https://localhost:8080/"
        },
        "id": "AuDzljhsY6MA",
        "outputId": "56e5250d-4816-49e8-fc3d-cdcc4524756c"
      },
      "source": [
        "import sys\n",
        "import os\n",
        "import tensorflow.keras\n",
        "from tensorflow.keras.applications.resnet50 import ResNet50\n",
        "from tensorflow.keras.applications.vgg16 import preprocess_input\n",
        "import pandas as pd\n",
        "from sklearn.model_selection import train_test_split\n",
        "import PIL.Image as Image\n",
        "import numpy as np\n",
        "from glob import glob\n",
        "import matplotlib.pyplot as plt\n",
        "np.set_printoptions(suppress=True)\n",
        "np.set_printoptions(threshold=sys.maxsize)\n",
        "\n",
        "from google.colab import drive\n",
        "drive.mount(\"/content/drive\")"
      ],
      "execution_count": null,
      "outputs": [
        {
          "output_type": "stream",
          "text": [
            "Mounted at /content/drive\n"
          ],
          "name": "stdout"
        }
      ]
    },
    {
      "cell_type": "code",
      "metadata": {
        "id": "Y2vnDJKJZk-A"
      },
      "source": [
        "import pandas as pd\n",
        "\n",
        "fullDataFrame=pd.read_csv('/content/drive/My Drive/BachelorProject/dataframe/data.csv')\n",
        "smallerDataFrame = fullDataFrame"
      ],
      "execution_count": null,
      "outputs": []
    },
    {
      "cell_type": "code",
      "metadata": {
        "id": "udbgYvxKZnwu"
      },
      "source": [
        "smallerDataFrame.drop(smallerDataFrame.index[smallerDataFrame['Label'] == 'Water'], inplace = True)"
      ],
      "execution_count": null,
      "outputs": []
    },
    {
      "cell_type": "code",
      "metadata": {
        "id": "jxK7BELffMJH"
      },
      "source": [
        "labelsFrequency = smallerDataFrame['Label'].value_counts()"
      ],
      "execution_count": null,
      "outputs": []
    },
    {
      "cell_type": "code",
      "metadata": {
        "id": "E-XLvehXpvXT"
      },
      "source": [
        "uniqueLabels = smallerDataFrame.Label.unique()"
      ],
      "execution_count": null,
      "outputs": []
    },
    {
      "cell_type": "code",
      "metadata": {
        "id": "WCsU3IqHyWuw"
      },
      "source": [
        "def insertRows(tempData, currentDataFrame, label, increment):\n",
        "  array = []\n",
        "  if (increment==0):\n",
        "    increment = 1\n",
        "  temp = increment\n",
        "  for index, row in tempData.iterrows():\n",
        "    temp -= 1\n",
        "    if (temp == 0):\n",
        "      array.append([row['FilePath'], row['Label']])\n",
        "      temp = increment\n",
        "  \n",
        "  columns = ['FilePath', 'Label']\n",
        "  tempDataFrame = pd.DataFrame(array, columns=columns)\n",
        "  currentDataFrame = currentDataFrame.append(tempDataFrame)\n",
        "  return currentDataFrame"
      ],
      "execution_count": null,
      "outputs": []
    },
    {
      "cell_type": "code",
      "metadata": {
        "id": "OS2Cj_EfsrWJ"
      },
      "source": [
        "def createMiniDataFrame(fullDataFrame, currentDataFrame, uniqueLabels):\n",
        "\n",
        "  for label in uniqueLabels:\n",
        "    tempData = (fullDataFrame.loc[fullDataFrame['Label'] == label])\n",
        "    currentDataFrame = insertRows(tempData, currentDataFrame, label, len(tempData)//500)\n",
        "  \n",
        "  return currentDataFrame"
      ],
      "execution_count": null,
      "outputs": []
    },
    {
      "cell_type": "code",
      "metadata": {
        "id": "wpwObh81q7sx"
      },
      "source": [
        "currentDataFrame = pd.DataFrame(columns=['FilePath', 'Label'])\n",
        "currentDataFrame = createMiniDataFrame(smallerDataFrame, currentDataFrame, uniqueLabels)"
      ],
      "execution_count": null,
      "outputs": []
    },
    {
      "cell_type": "code",
      "metadata": {
        "id": "26bxVqWmvig4"
      },
      "source": [
        "currentDataFrame['Label'].value_counts()"
      ],
      "execution_count": null,
      "outputs": []
    },
    {
      "cell_type": "code",
      "metadata": {
        "id": "bOaYJTRjwzmv"
      },
      "source": [
        "currentDataFrame.to_csv('reducedData.csv')\n",
        "!cp reducedData.csv \"/content/drive/My Drive/BachelorProject/dataframe/\""
      ],
      "execution_count": null,
      "outputs": []
    },
    {
      "cell_type": "code",
      "metadata": {
        "id": "VRUIW7sZCi8l"
      },
      "source": [
        "emptyDataFrame = pd.DataFrame(columns=['FilePath', 'Label'])"
      ],
      "execution_count": null,
      "outputs": []
    },
    {
      "cell_type": "code",
      "metadata": {
        "id": "3ZdOF1eXLC0g"
      },
      "source": [
        "import pandas as pd\n",
        "\n",
        "reducedData=pd.read_csv('/content/drive/My Drive/BachelorProject/dataframe/reducedData.csv', index_col=0)\n",
        "\n",
        "reducedDataFrame.to_csv('reducedData1.csv')\n",
        "!cp reducedData1.csv \"/content/drive/My Drive/BachelorProject/dataframe/\""
      ],
      "execution_count": null,
      "outputs": []
    },
    {
      "cell_type": "code",
      "metadata": {
        "id": "l8cpNTjn6pFD"
      },
      "source": [
        "reducedDataFrame = reducedDataFrame.reset_index(drop=True)"
      ],
      "execution_count": null,
      "outputs": []
    },
    {
      "cell_type": "code",
      "metadata": {
        "id": "KIGeVPFJ4H2F"
      },
      "source": [
        "reducedDataFrame.to_csv('reducedData1.csv')\n",
        "!cp reducedData1.csv \"/content/drive/My Drive/BachelorProject/dataframe/\""
      ],
      "execution_count": null,
      "outputs": []
    }
  ]
}
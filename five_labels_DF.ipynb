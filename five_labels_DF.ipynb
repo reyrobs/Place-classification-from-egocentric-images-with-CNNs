{
  "nbformat": 4,
  "nbformat_minor": 0,
  "metadata": {
    "colab": {
      "name": "five_labels_DF.ipynb",
      "provenance": []
    },
    "kernelspec": {
      "name": "python3",
      "display_name": "Python 3"
    },
    "language_info": {
      "name": "python"
    },
    "accelerator": "GPU"
  },
  "cells": [
    {
      "cell_type": "code",
      "metadata": {
        "colab": {
          "base_uri": "https://localhost:8080/"
        },
        "id": "VqaOsHW009yI",
        "outputId": "ea021d2f-c323-47c5-be71-8942cb03ed2b"
      },
      "source": [
        "import sys\n",
        "import os\n",
        "import tensorflow.keras\n",
        "from tensorflow.keras.applications.resnet50 import ResNet50\n",
        "from tensorflow.keras.applications.vgg16 import preprocess_input\n",
        "import pandas as pd\n",
        "from sklearn.model_selection import train_test_split\n",
        "import PIL.Image as Image\n",
        "import numpy as np\n",
        "from glob import glob\n",
        "import matplotlib.pyplot as plt\n",
        "np.set_printoptions(suppress=True)\n",
        "np.set_printoptions(threshold=sys.maxsize)\n",
        "\n",
        "from google.colab import drive\n",
        "drive.mount(\"/content/drive\")"
      ],
      "execution_count": null,
      "outputs": [
        {
          "output_type": "stream",
          "text": [
            "Mounted at /content/drive\n"
          ],
          "name": "stdout"
        }
      ]
    },
    {
      "cell_type": "code",
      "metadata": {
        "colab": {
          "base_uri": "https://localhost:8080/"
        },
        "id": "K9DqNmd-1RhC",
        "outputId": "2fb25686-9e52-427c-dd1c-af7dbb7fd549"
      },
      "source": [
        "import tensorflow as tf\n",
        "device_name = tf.test.gpu_device_name()\n",
        "if device_name != '/device:GPU:0':\n",
        "  raise SystemError('GPU device not found')\n",
        "print('Found GPU at: {}'.format(device_name))"
      ],
      "execution_count": null,
      "outputs": [
        {
          "output_type": "stream",
          "text": [
            "Found GPU at: /device:GPU:0\n"
          ],
          "name": "stdout"
        }
      ]
    },
    {
      "cell_type": "code",
      "metadata": {
        "id": "qJlJxVKh1mqq"
      },
      "source": [
        "import pandas as pd\n",
        "\n",
        "df=pd.read_csv('/content/drive/My Drive/BachelorProject/dataframe/reducedData1.csv')"
      ],
      "execution_count": null,
      "outputs": []
    },
    {
      "cell_type": "code",
      "metadata": {
        "id": "T1M_TIEw1pSc"
      },
      "source": [
        "temp1 = df.copy()\n",
        "temp2 = df.copy()\n",
        "temp3 = df.copy()\n",
        "temp4 = df.copy()\n",
        "temp5 = df.copy()"
      ],
      "execution_count": null,
      "outputs": []
    },
    {
      "cell_type": "code",
      "metadata": {
        "id": "ZbUkOqhe2J07"
      },
      "source": [
        "temp1.drop(temp1[temp1.Label != 'Kitchen'].index, inplace=True)\n",
        "temp2.drop(temp2[temp2.Label != 'Bedroom'].index, inplace=True)\n",
        "temp3.drop(temp3[temp3.Label != 'Sport fields'].index, inplace=True)\n",
        "temp4.drop(temp4[temp4.Label != 'Living room'].index, inplace=True)\n",
        "temp5.drop(temp5[temp5.Label != 'Restaurant,Bar'].index, inplace=True)"
      ],
      "execution_count": null,
      "outputs": []
    },
    {
      "cell_type": "code",
      "metadata": {
        "id": "TB3bLbOH2uvW"
      },
      "source": [
        "five_labels_df = pd.concat([temp1, temp2, temp3, temp4, temp5], ignore_index=True)"
      ],
      "execution_count": null,
      "outputs": []
    },
    {
      "cell_type": "code",
      "metadata": {
        "colab": {
          "base_uri": "https://localhost:8080/"
        },
        "id": "I2bn9Tn_Llue",
        "outputId": "0a764873-6752-4605-f96d-d4879d39b278"
      },
      "source": [
        "five_labels_df.Label.value_counts()"
      ],
      "execution_count": null,
      "outputs": [
        {
          "output_type": "execute_result",
          "data": {
            "text/plain": [
              "Kitchen           599\n",
              "Bedroom           543\n",
              "Sport fields      538\n",
              "Living room       524\n",
              "Restaurant,Bar    521\n",
              "Name: Label, dtype: int64"
            ]
          },
          "metadata": {
            "tags": []
          },
          "execution_count": 7
        }
      ]
    },
    {
      "cell_type": "code",
      "metadata": {
        "id": "NvtG41AC4gpW"
      },
      "source": [
        "five_labels_df = pd.read_csv('/content/drive/My Drive/BachelorProject/dataframe/five_labels_df.csv', index_col=0)"
      ],
      "execution_count": null,
      "outputs": []
    },
    {
      "cell_type": "code",
      "metadata": {
        "id": "MPX48f0QL3Tb"
      },
      "source": [
        "five_labels_df.Label.value_counts()"
      ],
      "execution_count": null,
      "outputs": []
    },
    {
      "cell_type": "code",
      "metadata": {
        "id": "OILq8Bv_4y-E"
      },
      "source": [
        "from sklearn.model_selection import train_test_split\n",
        "\n",
        "temp, test_set = train_test_split(five_labels_df, test_size=0.2, stratify=five_labels_df.Label)\n",
        "\n",
        "train_set, validation_set = train_test_split(temp, test_size=0.2, stratify=temp.Label)"
      ],
      "execution_count": null,
      "outputs": []
    },
    {
      "cell_type": "code",
      "metadata": {
        "id": "UBseUw436ZF_"
      },
      "source": [
        "from keras.layers import Dense, Activation, Flatten\n",
        "from tensorflow.keras.utils import to_categorical\n",
        "import tensorflow as tf\n",
        "\n",
        "def createModel():\n",
        "  counter = 0\n",
        "  resnet50 = tf.keras.applications.resnet50\n",
        "  conv_model = resnet50.ResNet50(weights='imagenet', include_top=False, input_shape=(224,224,3))\n",
        "  for layer in conv_model.layers:\n",
        "      counter += 1\n",
        "      layer.trainable = False\n",
        "\n",
        "  x = tf.keras.layers.Flatten()(conv_model.output)\n",
        "\n",
        "  predictions = tf.keras.layers.Dense(5, activation='softmax')(x)\n",
        "  full_model = tf.keras.models.Model(inputs=conv_model.input, outputs=predictions)\n",
        "\n",
        "  return full_model"
      ],
      "execution_count": null,
      "outputs": []
    },
    {
      "cell_type": "code",
      "metadata": {
        "colab": {
          "base_uri": "https://localhost:8080/"
        },
        "id": "s6UR14bT6kq8",
        "outputId": "847769aa-3e55-4285-9414-69e901f9207b"
      },
      "source": [
        "from keras_preprocessing.image import ImageDataGenerator\n",
        "import tensorflow as tf\n",
        "\n",
        "\n",
        "datagen=ImageDataGenerator(rescale=1./255, preprocessing_function=tf.keras.applications.resnet50.preprocess_input)\n",
        "train_generator=datagen.flow_from_dataframe(dataframe=train_set, x_col=\"FilePath\", y_col=\"Label\", class_mode=\"categorical\", seed=42, \n",
        "                                            target_size=(224,224), color_mode='rgb', save_format='jpg', batch_size=10, shuffle=True)\n",
        "\n",
        "validation_genarator=datagen.flow_from_dataframe(dataframe=validation_set, x_col=\"FilePath\", y_col=\"Label\", class_mode=\"categorical\", seed=42, \n",
        "                                            target_size=(224,224), color_mode='rgb', save_format='jpg', batch_size=10, shuffle=True)\n",
        "\n",
        "test_genarator=datagen.flow_from_dataframe(dataframe=test_set, x_col=\"FilePath\", y_col=\"Label\", class_mode=\"categorical\", seed=42, \n",
        "                                            target_size=(224,224), color_mode='rgb', save_format='jpg', batch_size=10, shuffle=False)"
      ],
      "execution_count": null,
      "outputs": [
        {
          "output_type": "stream",
          "text": [
            "Found 1744 validated image filenames belonging to 5 classes.\n",
            "Found 436 validated image filenames belonging to 5 classes.\n",
            "Found 545 validated image filenames belonging to 5 classes.\n"
          ],
          "name": "stdout"
        }
      ]
    },
    {
      "cell_type": "code",
      "metadata": {
        "colab": {
          "base_uri": "https://localhost:8080/"
        },
        "id": "at3skd4E7TQq",
        "outputId": "2962bffc-00ce-4277-a6fb-d64015f7a501"
      },
      "source": [
        "full_model = createModel()\n",
        "full_model.compile(loss='categorical_crossentropy',\n",
        "                  optimizer=tf.keras.optimizers.Adamax(learning_rate=0.001),\n",
        "                  metrics=['accuracy'])"
      ],
      "execution_count": null,
      "outputs": [
        {
          "output_type": "stream",
          "text": [
            "Downloading data from https://storage.googleapis.com/tensorflow/keras-applications/resnet/resnet50_weights_tf_dim_ordering_tf_kernels_notop.h5\n",
            "94773248/94765736 [==============================] - 0s 0us/step\n"
          ],
          "name": "stdout"
        }
      ]
    },
    {
      "cell_type": "code",
      "metadata": {
        "id": "HTLO9CvU7Wm4"
      },
      "source": [
        "STEP_SIZE_TRAIN=train_generator.n//train_generator.batch_size\n",
        "STEP_SIZE_VALIDATION=validation_genarator.n//validation_genarator.batch_size"
      ],
      "execution_count": null,
      "outputs": []
    },
    {
      "cell_type": "code",
      "metadata": {
        "id": "sVVlfw-g7YxG",
        "colab": {
          "base_uri": "https://localhost:8080/"
        },
        "outputId": "d2ea7e0d-32d9-404e-e0a8-ab621dd37b99"
      },
      "source": [
        "full_model.fit(train_generator,\n",
        "          epochs=1,\n",
        "          steps_per_epoch=STEP_SIZE_TRAIN,\n",
        "          validation_data=validation_genarator,\n",
        "          validation_steps=STEP_SIZE_VALIDATION)\n",
        "\n",
        "full_model.save('/content/drive/My Drive/BachelorProject/saved_models/full_modellll')"
      ],
      "execution_count": null,
      "outputs": [
        {
          "output_type": "stream",
          "text": [
            "174/174 [==============================] - 1042s 6s/step - loss: 2.1925 - accuracy: 0.3466 - val_loss: 1.3427 - val_accuracy: 0.4116\n"
          ],
          "name": "stdout"
        },
        {
          "output_type": "stream",
          "text": [
            "/usr/local/lib/python3.7/dist-packages/tensorflow/python/keras/utils/generic_utils.py:497: CustomMaskWarning: Custom mask layers require a config and must override get_config. When loading, the custom mask layer must be passed to the custom_objects argument.\n",
            "  category=CustomMaskWarning)\n"
          ],
          "name": "stderr"
        },
        {
          "output_type": "stream",
          "text": [
            "INFO:tensorflow:Assets written to: /content/drive/My Drive/BachelorProject/saved_models/full_modellll/assets\n"
          ],
          "name": "stdout"
        }
      ]
    },
    {
      "cell_type": "code",
      "metadata": {
        "id": "oBh3U_1bUNeV"
      },
      "source": [
        "from tensorflow import keras\n",
        "\n",
        "model = keras.models.load_model('/content/drive/My Drive/BachelorProject/saved_models/full_modellll')"
      ],
      "execution_count": null,
      "outputs": []
    },
    {
      "cell_type": "code",
      "metadata": {
        "id": "iEGdx41FUXl5"
      },
      "source": [
        "model.summary"
      ],
      "execution_count": null,
      "outputs": []
    },
    {
      "cell_type": "code",
      "metadata": {
        "id": "W_s1OxWakBIe"
      },
      "source": [
        "def plotImages(image_arr):\n",
        "  fig, axes = plt.subplots(1, 10, figsize=(20, 20))\n",
        "  axes = axes.flatten()\n",
        "  for img, ax in zip(image_arr, axes):\n",
        "    ax.imshow(img)\n",
        "    ax.axis('off')\n",
        "  plt.tight_layout()\n",
        "  plt.show()"
      ],
      "execution_count": null,
      "outputs": []
    },
    {
      "cell_type": "code",
      "metadata": {
        "id": "g9LeSCpFkDXE"
      },
      "source": [
        "img, labels = next(train_generator)\n",
        "plotImages(img)\n",
        "print(labels)"
      ],
      "execution_count": null,
      "outputs": []
    },
    {
      "cell_type": "code",
      "metadata": {
        "id": "MdqxRkBEVj-P"
      },
      "source": [
        "thisdict = {\n",
        "  \"Bedroom\": 0,\n",
        "  \"Kitchen\": 1,\n",
        "  \"Living room\": 2,\n",
        "  \"Restaurant,Bar\" : 3,\n",
        "  \"Sport fields\" : 4\n",
        "}"
      ],
      "execution_count": null,
      "outputs": []
    },
    {
      "cell_type": "code",
      "metadata": {
        "id": "7gvWJC_AVSnu"
      },
      "source": [
        "from sklearn.metrics import confusion_matrix, accuracy_score\n",
        "\n",
        "y_pred = model.predict(test_genarator)\n",
        "\n",
        "predicted_labels = np.argmax(y_pred, axis=-1)\n",
        "\n",
        "real_labels = [thisdict[elem] for elem in test_set.Label]\n",
        "\n",
        "# accuracy_score(real_labels, predicted_labels)"
      ],
      "execution_count": null,
      "outputs": []
    },
    {
      "cell_type": "code",
      "metadata": {
        "colab": {
          "base_uri": "https://localhost:8080/"
        },
        "id": "wD2PQv_LYFE5",
        "outputId": "11650503-da0d-420d-822d-1958f13b930b"
      },
      "source": [
        "accuracy_score(real_labels, predicted_labels)"
      ],
      "execution_count": null,
      "outputs": [
        {
          "output_type": "execute_result",
          "data": {
            "text/plain": [
              "0.44220183486238535"
            ]
          },
          "metadata": {
            "tags": []
          },
          "execution_count": 33
        }
      ]
    }
  ]
}
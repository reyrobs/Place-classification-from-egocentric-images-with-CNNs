{
  "nbformat": 4,
  "nbformat_minor": 0,
  "metadata": {
    "colab": {
      "name": "heatMap_final.ipynb",
      "provenance": []
    },
    "kernelspec": {
      "name": "python3",
      "display_name": "Python 3"
    },
    "language_info": {
      "name": "python"
    }
  },
  "cells": [
    {
      "cell_type": "code",
      "metadata": {
        "colab": {
          "base_uri": "https://localhost:8080/"
        },
        "id": "R2vg6XIIK2sL",
        "outputId": "e1b33ebf-4899-4e31-e119-45366095b8d3"
      },
      "source": [
        "import sys\n",
        "import os\n",
        "import tensorflow.keras\n",
        "from tensorflow.keras.applications.resnet50 import ResNet50\n",
        "from tensorflow.keras.applications.vgg16 import preprocess_input\n",
        "import pandas as pd\n",
        "from sklearn.model_selection import train_test_split\n",
        "import PIL.Image as Image\n",
        "import numpy as np\n",
        "from glob import glob\n",
        "import matplotlib.pyplot as plt\n",
        "np.set_printoptions(suppress=True)\n",
        "np.set_printoptions(threshold=sys.maxsize)\n",
        "\n",
        "from google.colab import drive\n",
        "drive.mount(\"/content/drive\")"
      ],
      "execution_count": null,
      "outputs": [
        {
          "output_type": "stream",
          "text": [
            "Mounted at /content/drive\n"
          ],
          "name": "stdout"
        }
      ]
    },
    {
      "cell_type": "code",
      "metadata": {
        "id": "YqFEWilvLFDA"
      },
      "source": [
        "from keras.layers import Dense, Activation, Flatten\n",
        "from tensorflow.keras.utils import to_categorical\n",
        "import tensorflow as tf\n",
        "\n",
        "def createModel():\n",
        "  counter = 0\n",
        "  resnet50 = tf.keras.applications.resnet50\n",
        "  conv_model = resnet50.ResNet50(weights='imagenet', include_top=False, input_shape=(224,224,3))\n",
        "  for layer in conv_model.layers:\n",
        "      counter += 1\n",
        "      layer.trainable = False\n",
        "\n",
        "  x = tf.keras.layers.GlobalAveragePooling2D()(conv_model.output)\n",
        "  predictions = tf.keras.layers.Dense(5, activation='softmax')(x)\n",
        "  full_model = tf.keras.models.Model(inputs=conv_model.input, outputs=predictions)\n",
        "\n",
        "  return full_model"
      ],
      "execution_count": null,
      "outputs": []
    },
    {
      "cell_type": "code",
      "metadata": {
        "colab": {
          "base_uri": "https://localhost:8080/"
        },
        "id": "Q5ePIEycLRQ9",
        "outputId": "26ecfe1f-3539-424c-c6e1-47a2a42905f1"
      },
      "source": [
        "  # CREATE NEW MODEL\n",
        "  model = createModel()\n",
        "  # COMPILE NEW MODEL\n",
        "  model.compile(loss='categorical_crossentropy',\n",
        "          optimizer=tf.keras.optimizers.Adamax(learning_rate=0.001),\n",
        "          metrics=['accuracy', tf.keras.metrics.Precision()])"
      ],
      "execution_count": null,
      "outputs": [
        {
          "output_type": "stream",
          "text": [
            "Downloading data from https://storage.googleapis.com/tensorflow/keras-applications/resnet/resnet50_weights_tf_dim_ordering_tf_kernels_notop.h5\n",
            "94773248/94765736 [==============================] - 1s 0us/step\n"
          ],
          "name": "stdout"
        }
      ]
    },
    {
      "cell_type": "code",
      "metadata": {
        "id": "XsNnl9McLS0A"
      },
      "source": [
        "from tensorflow import keras\n",
        "\n",
        "model = keras.models.load_model(\"/content/drive/My Drive/BachelorProject/temp_models/model_4.h5\")"
      ],
      "execution_count": null,
      "outputs": []
    },
    {
      "cell_type": "code",
      "metadata": {
        "id": "4hIHHmisLYGm"
      },
      "source": [
        "resnet = createModel()"
      ],
      "execution_count": null,
      "outputs": []
    },
    {
      "cell_type": "code",
      "metadata": {
        "id": "ANtIvdvuLblQ"
      },
      "source": [
        "thisdict = {\n",
        "  \"Bedroom\": 0,\n",
        "  \"Kitchen\": 1,\n",
        "  \"Living room\": 2,\n",
        "  \"Restaurant,Bar\" : 3,\n",
        "  \"Sport fields\" : 4\n",
        "}"
      ],
      "execution_count": null,
      "outputs": []
    },
    {
      "cell_type": "code",
      "metadata": {
        "id": "RatITUnLLe4O"
      },
      "source": [
        "from tensorflow.keras.preprocessing import image\n",
        "imgfiles = glob('/content/drive/My Drive/BachelorProject/HeatImages/living.jpg')\n",
        "\n",
        "x = np.expand_dims(image.img_to_array(image.load_img(imgfiles[0],target_size=(224, 224, 3))),axis = 0)\n",
        "x = preprocess_input(x)"
      ],
      "execution_count": null,
      "outputs": []
    },
    {
      "cell_type": "code",
      "metadata": {
        "colab": {
          "base_uri": "https://localhost:8080/"
        },
        "id": "g-Zb7QDuLg3x",
        "outputId": "d3bed8c2-b6e6-438d-a188-2c5f1e3b563b"
      },
      "source": [
        "model.predict(x)"
      ],
      "execution_count": null,
      "outputs": [
        {
          "output_type": "execute_result",
          "data": {
            "text/plain": [
              "array([[0., 0., 1., 0., 0.]], dtype=float32)"
            ]
          },
          "metadata": {
            "tags": []
          },
          "execution_count": 46
        }
      ]
    },
    {
      "cell_type": "code",
      "metadata": {
        "id": "jrStGtkbLsk2"
      },
      "source": [
        "resnet.summary()"
      ],
      "execution_count": null,
      "outputs": []
    },
    {
      "cell_type": "code",
      "metadata": {
        "id": "b1tntHoJLnSp"
      },
      "source": [
        "activation_layer = model.get_layer('conv5_block3_out')"
      ],
      "execution_count": null,
      "outputs": []
    },
    {
      "cell_type": "code",
      "metadata": {
        "id": "8G4Z7pTCLo7W"
      },
      "source": [
        "from tensorflow.keras.models import Model\n",
        "\n",
        "model1 = Model(inputs = model.input , outputs = activation_layer.output)"
      ],
      "execution_count": null,
      "outputs": []
    },
    {
      "cell_type": "code",
      "metadata": {
        "id": "IUQX6vPMLqw1"
      },
      "source": [
        "final = resnet.get_layer('dense_1')\n",
        "w = final.get_weights()"
      ],
      "execution_count": null,
      "outputs": []
    },
    {
      "cell_type": "code",
      "metadata": {
        "id": "Mhm616FzL0dF"
      },
      "source": [
        "maps = model1.predict(x)\n",
        "probs = resnet.predict(x)"
      ],
      "execution_count": null,
      "outputs": []
    },
    {
      "cell_type": "code",
      "metadata": {
        "id": "VJ6jo-ssL3Qy"
      },
      "source": [
        "import scipy as sp\n",
        "\n",
        "pred = int(np.argmax(probs[0]))\n",
        "W = w[0][pred]\n",
        "cam = maps.dot(w[0].T[pred])\n",
        "cam = sp.ndimage.zoom(cam[0], (32,32), order=1)"
      ],
      "execution_count": null,
      "outputs": []
    },
    {
      "cell_type": "code",
      "metadata": {
        "id": "F9nyKMxML46G"
      },
      "source": [
        "plt.figure(figsize=(15,5))\n",
        "plt.subplot(1,2,1);\n",
        "plt.imshow(cam , alpha=0.8);\n",
        "plt.imshow(x[0] , alpha=0.2);\n",
        "plt.subplot(1,2,2);\n",
        "plt.imshow(x[0]);"
      ],
      "execution_count": null,
      "outputs": []
    }
  ]
}
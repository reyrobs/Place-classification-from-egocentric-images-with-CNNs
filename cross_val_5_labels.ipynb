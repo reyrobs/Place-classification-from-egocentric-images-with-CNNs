{
  "nbformat": 4,
  "nbformat_minor": 0,
  "metadata": {
    "colab": {
      "name": "cross_val_5_labels.ipynb",
      "provenance": [],
      "collapsed_sections": []
    },
    "kernelspec": {
      "name": "python3",
      "display_name": "Python 3"
    },
    "language_info": {
      "name": "python"
    },
    "accelerator": "GPU"
  },
  "cells": [
    {
      "cell_type": "code",
      "metadata": {
        "colab": {
          "base_uri": "https://localhost:8080/"
        },
        "id": "VOLMEzN5CExt",
        "outputId": "ec27e7f0-1f64-4384-d259-581d8fa9bf88"
      },
      "source": [
        "import sys\n",
        "import os\n",
        "import tensorflow.keras\n",
        "from tensorflow.keras.applications.resnet50 import ResNet50\n",
        "from tensorflow.keras.applications.vgg16 import preprocess_input\n",
        "import pandas as pd\n",
        "from sklearn.model_selection import train_test_split\n",
        "import PIL.Image as Image\n",
        "import numpy as np\n",
        "from glob import glob\n",
        "import matplotlib.pyplot as plt\n",
        "np.set_printoptions(suppress=True)\n",
        "np.set_printoptions(threshold=sys.maxsize)\n",
        "\n",
        "from google.colab import drive\n",
        "drive.mount(\"/content/drive\")"
      ],
      "execution_count": null,
      "outputs": [
        {
          "output_type": "stream",
          "text": [
            "Mounted at /content/drive\n"
          ],
          "name": "stdout"
        }
      ]
    },
    {
      "cell_type": "code",
      "metadata": {
        "colab": {
          "base_uri": "https://localhost:8080/"
        },
        "id": "danBRtOVDJtu",
        "outputId": "f29ed18c-38a0-40b7-80bd-fca633ea9a6d"
      },
      "source": [
        "import tensorflow as tf\n",
        "device_name = tf.test.gpu_device_name()\n",
        "if device_name != '/device:GPU:0':\n",
        "  raise SystemError('GPU device not found')\n",
        "print('Found GPU at: {}'.format(device_name))"
      ],
      "execution_count": null,
      "outputs": [
        {
          "output_type": "stream",
          "text": [
            "Found GPU at: /device:GPU:0\n"
          ],
          "name": "stdout"
        }
      ]
    },
    {
      "cell_type": "code",
      "metadata": {
        "id": "Er9wrVwsD7eC"
      },
      "source": [
        "five_labels_df = pd.read_csv('/content/drive/My Drive/BachelorProject/dataframe/five_labels_df.csv', index_col=0)"
      ],
      "execution_count": null,
      "outputs": []
    },
    {
      "cell_type": "code",
      "metadata": {
        "id": "bHaX8pVaFuTZ"
      },
      "source": [
        "from sklearn.model_selection import KFold, StratifiedKFold\n",
        "\n",
        "Y = five_labels_df[['Label']]\n",
        "\n",
        "skf = StratifiedKFold(n_splits = 2, random_state = 42, shuffle = True) "
      ],
      "execution_count": null,
      "outputs": []
    },
    {
      "cell_type": "code",
      "metadata": {
        "id": "wRvuLNIAF3f2"
      },
      "source": [
        "from keras_preprocessing.image import ImageDataGenerator\n",
        "import tensorflow as tf\n",
        "\n",
        "\n",
        "datagen=ImageDataGenerator(rescale=1./255, preprocessing_function=tf.keras.applications.resnet50.preprocess_input)"
      ],
      "execution_count": null,
      "outputs": []
    },
    {
      "cell_type": "code",
      "metadata": {
        "id": "YZRQv_xHGRb6"
      },
      "source": [
        "def get_model_name(k):\n",
        "    return 'model_'+str(k)+'.h5'"
      ],
      "execution_count": null,
      "outputs": []
    },
    {
      "cell_type": "code",
      "metadata": {
        "id": "II3j5qyPBnxp"
      },
      "source": [
        "from keras.layers import Dense, Activation, Flatten\n",
        "from tensorflow.keras.utils import to_categorical\n",
        "import tensorflow as tf\n",
        "\n",
        "def createModel():\n",
        "  counter = 0\n",
        "  resnet50 = tf.keras.applications.resnet50\n",
        "  conv_model = resnet50.ResNet50(weights='imagenet', include_top=False, input_shape=(224,224,3))\n",
        "  for layer in conv_model.layers:\n",
        "      counter += 1\n",
        "      layer.trainable = False\n",
        "\n",
        "  x = tf.keras.layers.GlobalAveragePooling2D()(conv_model.output)\n",
        "  predictions = tf.keras.layers.Dense(5, activation='softmax')(x)\n",
        "  full_model = tf.keras.models.Model(inputs=conv_model.input, outputs=predictions)\n",
        "\n",
        "  return full_model"
      ],
      "execution_count": null,
      "outputs": []
    },
    {
      "cell_type": "code",
      "metadata": {
        "id": "NsRvTuwUHFcg"
      },
      "source": [
        "from sklearn.model_selection import train_test_split\n",
        "\n",
        "train_val, test_set = train_test_split(five_labels_df, test_size=0.2, stratify=five_labels_df.Label)"
      ],
      "execution_count": null,
      "outputs": []
    },
    {
      "cell_type": "code",
      "metadata": {
        "id": "acVRFHK-IA-L"
      },
      "source": [
        "from sklearn.model_selection import KFold, StratifiedKFold\n",
        "\n",
        "Y = train_val[['Label']]\n",
        "\n",
        "skf = StratifiedKFold(n_splits = 5, random_state = 42, shuffle = True) "
      ],
      "execution_count": null,
      "outputs": []
    },
    {
      "cell_type": "code",
      "metadata": {
        "id": "VgRZbFf6_8VX"
      },
      "source": [
        "  # CREATE NEW MODEL\n",
        "  model = createModel()\n",
        "  # COMPILE NEW MODEL\n",
        "  model.compile(loss='categorical_crossentropy',\n",
        "          optimizer=tf.keras.optimizers.Adamax(learning_rate=0.001),\n",
        "          metrics=['accuracy', tf.keras.metrics.Precision()])\n"
      ],
      "execution_count": null,
      "outputs": []
    },
    {
      "cell_type": "code",
      "metadata": {
        "id": "OHtY9RKTI_B3"
      },
      "source": [
        "VALIDATION_ACCURACY = []\n",
        "VAL_PRECISION = []\n",
        "VALIDATION_LOSS = []\n",
        "\n",
        "save_dir = '/content/drive/My Drive/BachelorProject/temp_models/'\n",
        "fold_var = 1\n",
        "\n",
        "for train_index, val_index in skf.split(np.zeros(len(Y)),Y):\n",
        "  print(fold_var)\n",
        "  training_data = train_val.iloc[train_index]\n",
        "  validation_data = train_val.iloc[val_index]\n",
        "  \n",
        "  train_data_generator=datagen.flow_from_dataframe(dataframe=training_data, \n",
        "                                            x_col=\"FilePath\", \n",
        "                                            y_col=\"Label\", \n",
        "                                            class_mode=\"categorical\", \n",
        "                                            target_size=(224,224), \n",
        "                                            color_mode='rgb', \n",
        "                                            save_format='jpg', \n",
        "                                            shuffle = True,\n",
        "                                            batch_size=32)\n",
        "  \n",
        "  valid_data_generator=datagen.flow_from_dataframe(dataframe=validation_data, \n",
        "                                            x_col=\"FilePath\", \n",
        "                                            y_col=\"Label\", \n",
        "                                            class_mode=\"categorical\", \n",
        "                                            target_size=(224,224), \n",
        "                                            color_mode='rgb', \n",
        "                                            save_format='jpg', \n",
        "                                            shuffle = True,\n",
        "                                            batch_size=32)\n",
        "\n",
        "\n",
        "  # CREATE NEW MODEL\n",
        "  model = createModel()\n",
        "  # COMPILE NEW MODEL\n",
        "  model.compile(loss='categorical_crossentropy',\n",
        "          optimizer=tf.keras.optimizers.Adamax(learning_rate=0.001),\n",
        "          metrics=['accuracy', tf.keras.metrics.Precision()])\n",
        "\n",
        "  # CREATE CALLBACKS\n",
        "  checkpoint = tf.keras.callbacks.ModelCheckpoint(save_dir+get_model_name(fold_var), \n",
        "              monitor='val_accuracy', verbose=1, \n",
        "              save_best_only=True, mode='max')\n",
        "  callbacks_list = [checkpoint]\n",
        "  # There can be other callbacks, but just showing one because it involves the model name\n",
        "  # This saves the best model\n",
        "  # FIT THE MODEL\n",
        "  STEP_SIZE_TRAIN=train_data_generator.n//train_data_generator.batch_size\n",
        "  STEP_SIZE_VALIDATION=valid_data_generator.n//valid_data_generator.batch_size\n",
        "\n",
        "  history = model.fit(train_data_generator,\n",
        "          epochs=5,\n",
        "          steps_per_epoch=STEP_SIZE_TRAIN,\n",
        "          callbacks=callbacks_list,\n",
        "          validation_data=valid_data_generator,\n",
        "          validation_steps=STEP_SIZE_VALIDATION)\n",
        "  #PLOT HISTORY\n",
        "  #\t\t:\n",
        "  #\t\t:\n",
        "\n",
        "  # LOAD BEST MODEL to evaluate the performance of the model\n",
        "  model.load_weights(\"/content/drive/My Drive/BachelorProject/temp_models/model_\"+str(fold_var)+\".h5\")\n",
        "\n",
        "  results = model.evaluate(valid_data_generator)\n",
        "  results = dict(zip(model.metrics_names,results))\n",
        "\n",
        "  VALIDATION_ACCURACY.append(results['accuracy'])\n",
        "  VALIDATION_LOSS.append(results['loss'])\n",
        "  tf.keras.backend.clear_session()\n",
        "\n",
        "  fold_var += 1"
      ],
      "execution_count": null,
      "outputs": []
    },
    {
      "cell_type": "code",
      "metadata": {
        "id": "uB9Lq-GOClDi"
      },
      "source": [
        "from tensorflow import keras\n",
        "\n",
        "model = keras.models.load_model(\"/content/drive/My Drive/BachelorProject/temp_models/model_4.h5\")"
      ],
      "execution_count": null,
      "outputs": []
    },
    {
      "cell_type": "code",
      "metadata": {
        "id": "eeHq47Lmz6Ii",
        "colab": {
          "base_uri": "https://localhost:8080/"
        },
        "outputId": "3357d458-88da-4084-bb42-57dbd43edaa4"
      },
      "source": [
        "resnet = createModel()"
      ],
      "execution_count": null,
      "outputs": [
        {
          "output_type": "stream",
          "text": [
            "Downloading data from https://storage.googleapis.com/tensorflow/keras-applications/resnet/resnet50_weights_tf_dim_ordering_tf_kernels_notop.h5\n",
            "94773248/94765736 [==============================] - 2s 0us/step\n"
          ],
          "name": "stdout"
        }
      ]
    },
    {
      "cell_type": "code",
      "metadata": {
        "id": "1DnJJJPNEgfO"
      },
      "source": [
        "from keras_preprocessing.image import ImageDataGenerator\n",
        "import tensorflow as tf\n",
        "\n",
        "datagen=ImageDataGenerator(rescale=1./255, preprocessing_function=tf.keras.applications.resnet50.preprocess_input)"
      ],
      "execution_count": null,
      "outputs": []
    },
    {
      "cell_type": "code",
      "metadata": {
        "id": "rEFeP2EHFIgG"
      },
      "source": [
        "thisdict = {\n",
        "  \"Bedroom\": 0,\n",
        "  \"Kitchen\": 1,\n",
        "  \"Living room\": 2,\n",
        "  \"Restaurant,Bar\" : 3,\n",
        "  \"Sport fields\" : 4\n",
        "}"
      ],
      "execution_count": null,
      "outputs": []
    },
    {
      "cell_type": "code",
      "metadata": {
        "colab": {
          "base_uri": "https://localhost:8080/"
        },
        "id": "_BjAAT04FVrl",
        "outputId": "fd34c0b4-c5aa-4c0b-c108-4c52834b8c65"
      },
      "source": [
        "test_genarator=datagen.flow_from_dataframe(dataframe=test_set, x_col=\"FilePath\", y_col=\"Label\", class_mode=\"categorical\", seed=42, \n",
        "                                            target_size=(224,224), color_mode='rgb', save_format='jpg', batch_size=10, shuffle=False)"
      ],
      "execution_count": null,
      "outputs": [
        {
          "output_type": "stream",
          "text": [
            "Found 545 validated image filenames belonging to 5 classes.\n"
          ],
          "name": "stdout"
        }
      ]
    },
    {
      "cell_type": "code",
      "metadata": {
        "id": "BQGiE0gxFatx"
      },
      "source": [
        "from sklearn.metrics import confusion_matrix, accuracy_score\n",
        "\n",
        "y_pred = model.predict(test_genarator)\n",
        "\n",
        "predicted_labels = np.argmax(y_pred, axis=-1)\n",
        "\n",
        "real_labels = [thisdict[elem] for elem in test_set.Label]"
      ],
      "execution_count": null,
      "outputs": []
    },
    {
      "cell_type": "code",
      "metadata": {
        "id": "IKt4VqR5DII9"
      },
      "source": [
        "from tensorflow.keras.preprocessing import image\n",
        "imgfiles = glob('/content/drive/My Drive/BachelorProject/HeatImages/living.jpg')\n",
        "\n",
        "x = np.expand_dims(image.img_to_array(image.load_img(imgfiles[0],target_size=(224, 224, 3))),axis = 0)\n",
        "x = preprocess_input(x)"
      ],
      "execution_count": null,
      "outputs": []
    },
    {
      "cell_type": "code",
      "metadata": {
        "colab": {
          "base_uri": "https://localhost:8080/"
        },
        "id": "MfAayRPEG6C5",
        "outputId": "9052dc4d-5a16-4167-dc50-38b14b9eab30"
      },
      "source": [
        "accuracy_score(real_labels, predicted_labels)"
      ],
      "execution_count": null,
      "outputs": [
        {
          "output_type": "execute_result",
          "data": {
            "text/plain": [
              "0.7908256880733945"
            ]
          },
          "metadata": {
            "tags": []
          },
          "execution_count": 13
        }
      ]
    },
    {
      "cell_type": "code",
      "metadata": {
        "id": "rADkMt8dMqAH"
      },
      "source": [
        "from sklearn.metrics import multilabel_confusion_matrix\n",
        "\n",
        "multilabel_confusion_matrix(real_labels, predicted_labels)"
      ],
      "execution_count": null,
      "outputs": []
    },
    {
      "cell_type": "code",
      "metadata": {
        "id": "8E-duMesiueW"
      },
      "source": [
        "from sklearn.metrics import confusion_matrix\n",
        "import seaborn as sn\n",
        "con=confusion_matrix(real_labels,predicted_labels)\n",
        "levels = ['Bedroom', 'Kitchen', 'Living room', 'Restaurant,Bar', 'Sport fields']\n",
        "sn.heatmap(con, xticklabels=levels, yticklabels=levels, annot=True, cmap='Greens')\n"
      ],
      "execution_count": null,
      "outputs": []
    },
    {
      "cell_type": "code",
      "metadata": {
        "id": "zih6JZE7K5aY"
      },
      "source": [
        "thisdictInvert = {\n",
        "  0: \"Bedroom\",\n",
        "  1: \"Kitchen\",\n",
        "  2: \"Living room\",\n",
        "  3: \"Restaurant,Bar\",\n",
        "  4: \"Sport fields\"\n",
        "}"
      ],
      "execution_count": null,
      "outputs": []
    },
    {
      "cell_type": "code",
      "metadata": {
        "id": "OM_n090HLOX2"
      },
      "source": [
        "from sklearn.metrics import classification_report\n",
        "\n",
        "print(classification_report(real_labels, predicted_labels, target_names=['Bedroom', 'Kitchen', 'Living room', 'Restaurant,Bar', 'Sport fields']))"
      ],
      "execution_count": null,
      "outputs": []
    }
  ]
}